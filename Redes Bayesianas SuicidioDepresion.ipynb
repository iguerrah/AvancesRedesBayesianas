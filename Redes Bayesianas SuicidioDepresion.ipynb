{
 "cells": [
  {
   "cell_type": "markdown",
   "id": "dc7a861f",
   "metadata": {},
   "source": [
    "# Librerías"
   ]
  },
  {
   "cell_type": "code",
   "execution_count": 1,
   "id": "91b00677",
   "metadata": {},
   "outputs": [],
   "source": [
    "import pandas as pd\n",
    "import numpy as np\n",
    "#librerias"
   ]
  },
  {
   "cell_type": "markdown",
   "id": "30ded068",
   "metadata": {},
   "source": [
    "# Data Sets"
   ]
  },
  {
   "cell_type": "markdown",
   "id": "7d96e1fd",
   "metadata": {},
   "source": [
    "Mortalidad 2017"
   ]
  },
  {
   "cell_type": "code",
   "execution_count": 2,
   "id": "006789fc",
   "metadata": {},
   "outputs": [],
   "source": [
    "mortalidad = pd.read_csv('/Users/iris.guerrah/Desktop/TESINA/SUICIDIO/defunciones_base_datos_2017_csv/conjunto_de_datos/conjunto_de_datos_defunciones_generales_2017.CSV')\n"
   ]
  },
  {
   "cell_type": "markdown",
   "id": "e6034119",
   "metadata": {},
   "source": [
    "Catalogo de Edad"
   ]
  },
  {
   "cell_type": "code",
   "execution_count": 3,
   "id": "2dd6b857",
   "metadata": {},
   "outputs": [],
   "source": [
    "dataedad = pd.read_excel('/Users/iris.guerrah/Desktop/TESINA/SUICIDIO/edad_numero.xlsx')"
   ]
  },
  {
   "cell_type": "code",
   "execution_count": 4,
   "id": "abc9280e",
   "metadata": {},
   "outputs": [],
   "source": [
    "# Eliminar los espacios en blanco de la columna 'lista_mex'\n",
    "mortalidad['lista_mex'] = mortalidad['lista_mex'].str.strip()\n",
    "\n",
    "# Filtrar el DataFrame donde la columna 'lista_mex' es igual a 'E54'\n",
    "mortalidad_e54 = mortalidad[mortalidad['lista_mex'] == '54']\n",
    "#'loc_resid', , 'edad'\n",
    "# Agrupar por 'ent_resid', 'mun_resid', 'loc_resid', 'sexo', 'edad' y contar los registros\n",
    "grupo_mortalidad = mortalidad_e54.groupby(['ent_resid', 'mun_resid', 'sexo']).size().reset_index(name='suicidios')"
   ]
  },
  {
   "cell_type": "markdown",
   "id": "8d31ec53",
   "metadata": {},
   "source": [
    "Datos de Persona"
   ]
  },
  {
   "cell_type": "code",
   "execution_count": 5,
   "id": "551adc24",
   "metadata": {},
   "outputs": [
    {
     "name": "stderr",
     "output_type": "stream",
     "text": [
      "/var/folders/q5/pdmv7wnx6hsgdlyqhmnkwgyc0000gn/T/ipykernel_56123/3762290273.py:1: DtypeWarning: Columns (4,5) have mixed types. Specify dtype option on import or set low_memory=False.\n",
      "  data1 = pd.read_csv('/Users/iris.guerrah/Desktop/TESINA/SUICIDIO/Condiciones en el Hogar 2017/persona.csv')\n"
     ]
    }
   ],
   "source": [
    "data1 = pd.read_csv('/Users/iris.guerrah/Desktop/TESINA/SUICIDIO/Condiciones en el Hogar 2017/persona.csv')"
   ]
  },
  {
   "cell_type": "markdown",
   "id": "6ece8f43",
   "metadata": {},
   "source": [
    "Datos Hogar"
   ]
  },
  {
   "cell_type": "code",
   "execution_count": 6,
   "id": "a38c998b",
   "metadata": {},
   "outputs": [],
   "source": [
    "data2 = pd.read_csv('/Users/iris.guerrah/Desktop/TESINA/SUICIDIO/Condiciones en el Hogar 2017/hogar.csv')"
   ]
  },
  {
   "cell_type": "markdown",
   "id": "855da551",
   "metadata": {},
   "source": [
    "Datos de Vivienda"
   ]
  },
  {
   "cell_type": "code",
   "execution_count": 8,
   "id": "112f45f0",
   "metadata": {},
   "outputs": [
    {
     "name": "stderr",
     "output_type": "stream",
     "text": [
      "/var/folders/q5/pdmv7wnx6hsgdlyqhmnkwgyc0000gn/T/ipykernel_56123/231641073.py:1: DtypeWarning: Columns (6) have mixed types. Specify dtype option on import or set low_memory=False.\n",
      "  data3 = pd.read_csv('/Users/iris.guerrah/Desktop/TESINA/SUICIDIO/Condiciones en el Hogar 2017/vivienda.csv')\n"
     ]
    }
   ],
   "source": [
    "data3 = pd.read_csv('/Users/iris.guerrah/Desktop/TESINA/SUICIDIO/Condiciones en el Hogar 2017/vivienda.csv')"
   ]
  },
  {
   "cell_type": "code",
   "execution_count": 9,
   "id": "7bffc3eb",
   "metadata": {},
   "outputs": [],
   "source": [
    "# Crear las nuevas columnas 'entidad', 'municipio' y 'localidad'\n",
    "data3['ubica_geo'] = data3['ubica_geo'].astype(str)\n",
    "data3['entidad'] = data3['ubica_geo'].str.slice(0, 2)\n",
    "data3['municipio'] = data3['ubica_geo'].str.slice(2, 5)"
   ]
  },
  {
   "cell_type": "code",
   "execution_count": 10,
   "id": "4d90a57c",
   "metadata": {},
   "outputs": [],
   "source": [
    "# Lista de columnas que deseas mantener\n",
    "columnas_a_mantener = ['entidad', 'municipio', 'folioviv']\n",
    "\n",
    "# Crear un nuevo DataFrame con solo las columnas deseadas\n",
    "data3 = data3[columnas_a_mantener]"
   ]
  },
  {
   "cell_type": "code",
   "execution_count": 11,
   "id": "b29c7bfd",
   "metadata": {},
   "outputs": [
    {
     "data": {
      "text/html": [
       "<div>\n",
       "<style scoped>\n",
       "    .dataframe tbody tr th:only-of-type {\n",
       "        vertical-align: middle;\n",
       "    }\n",
       "\n",
       "    .dataframe tbody tr th {\n",
       "        vertical-align: top;\n",
       "    }\n",
       "\n",
       "    .dataframe thead th {\n",
       "        text-align: right;\n",
       "    }\n",
       "</style>\n",
       "<table border=\"1\" class=\"dataframe\">\n",
       "  <thead>\n",
       "    <tr style=\"text-align: right;\">\n",
       "      <th></th>\n",
       "      <th>folioviv</th>\n",
       "      <th>foliohog</th>\n",
       "      <th>id_pobla</th>\n",
       "      <th>edad</th>\n",
       "      <th>nacio_dia</th>\n",
       "      <th>nacio_mes</th>\n",
       "      <th>sexo</th>\n",
       "      <th>parentesco</th>\n",
       "      <th>asiste_esc</th>\n",
       "      <th>tipo_esc</th>\n",
       "      <th>...</th>\n",
       "      <th>cuid_perso</th>\n",
       "      <th>lavandero</th>\n",
       "      <th>chofer</th>\n",
       "      <th>cocinero</th>\n",
       "      <th>jardinero</th>\n",
       "      <th>tot_integ</th>\n",
       "      <th>tot_hom</th>\n",
       "      <th>tot_muj</th>\n",
       "      <th>entidad</th>\n",
       "      <th>municipio</th>\n",
       "    </tr>\n",
       "  </thead>\n",
       "  <tbody>\n",
       "    <tr>\n",
       "      <th>0</th>\n",
       "      <td>100008010</td>\n",
       "      <td>1</td>\n",
       "      <td>1</td>\n",
       "      <td>79</td>\n",
       "      <td>16</td>\n",
       "      <td>12</td>\n",
       "      <td>1</td>\n",
       "      <td>1</td>\n",
       "      <td>2</td>\n",
       "      <td></td>\n",
       "      <td>...</td>\n",
       "      <td></td>\n",
       "      <td></td>\n",
       "      <td></td>\n",
       "      <td></td>\n",
       "      <td></td>\n",
       "      <td>4</td>\n",
       "      <td>2</td>\n",
       "      <td>2</td>\n",
       "      <td>10</td>\n",
       "      <td>010</td>\n",
       "    </tr>\n",
       "    <tr>\n",
       "      <th>1</th>\n",
       "      <td>100008010</td>\n",
       "      <td>1</td>\n",
       "      <td>2</td>\n",
       "      <td>34</td>\n",
       "      <td>30</td>\n",
       "      <td>7</td>\n",
       "      <td>1</td>\n",
       "      <td>4</td>\n",
       "      <td>1</td>\n",
       "      <td>1</td>\n",
       "      <td>...</td>\n",
       "      <td></td>\n",
       "      <td></td>\n",
       "      <td></td>\n",
       "      <td></td>\n",
       "      <td></td>\n",
       "      <td>4</td>\n",
       "      <td>2</td>\n",
       "      <td>2</td>\n",
       "      <td>10</td>\n",
       "      <td>010</td>\n",
       "    </tr>\n",
       "    <tr>\n",
       "      <th>2</th>\n",
       "      <td>100008010</td>\n",
       "      <td>1</td>\n",
       "      <td>3</td>\n",
       "      <td>31</td>\n",
       "      <td>8</td>\n",
       "      <td>9</td>\n",
       "      <td>2</td>\n",
       "      <td>8</td>\n",
       "      <td>2</td>\n",
       "      <td></td>\n",
       "      <td>...</td>\n",
       "      <td></td>\n",
       "      <td></td>\n",
       "      <td></td>\n",
       "      <td></td>\n",
       "      <td></td>\n",
       "      <td>4</td>\n",
       "      <td>2</td>\n",
       "      <td>2</td>\n",
       "      <td>10</td>\n",
       "      <td>010</td>\n",
       "    </tr>\n",
       "    <tr>\n",
       "      <th>3</th>\n",
       "      <td>100008010</td>\n",
       "      <td>1</td>\n",
       "      <td>4</td>\n",
       "      <td>3</td>\n",
       "      <td>3</td>\n",
       "      <td>9</td>\n",
       "      <td>2</td>\n",
       "      <td>8</td>\n",
       "      <td>2</td>\n",
       "      <td></td>\n",
       "      <td>...</td>\n",
       "      <td></td>\n",
       "      <td></td>\n",
       "      <td></td>\n",
       "      <td></td>\n",
       "      <td></td>\n",
       "      <td>4</td>\n",
       "      <td>2</td>\n",
       "      <td>2</td>\n",
       "      <td>10</td>\n",
       "      <td>010</td>\n",
       "    </tr>\n",
       "    <tr>\n",
       "      <th>4</th>\n",
       "      <td>100008034</td>\n",
       "      <td>1</td>\n",
       "      <td>1</td>\n",
       "      <td>42</td>\n",
       "      <td>20</td>\n",
       "      <td>5</td>\n",
       "      <td>1</td>\n",
       "      <td>1</td>\n",
       "      <td>2</td>\n",
       "      <td></td>\n",
       "      <td>...</td>\n",
       "      <td>2</td>\n",
       "      <td>2</td>\n",
       "      <td>2</td>\n",
       "      <td>2</td>\n",
       "      <td>2</td>\n",
       "      <td>5</td>\n",
       "      <td>4</td>\n",
       "      <td>1</td>\n",
       "      <td>10</td>\n",
       "      <td>010</td>\n",
       "    </tr>\n",
       "  </tbody>\n",
       "</table>\n",
       "<p>5 rows × 71 columns</p>\n",
       "</div>"
      ],
      "text/plain": [
       "    folioviv  foliohog  id_pobla  edad nacio_dia nacio_mes  sexo  parentesco  \\\n",
       "0  100008010         1         1    79        16        12     1           1   \n",
       "1  100008010         1         2    34        30         7     1           4   \n",
       "2  100008010         1         3    31         8         9     2           8   \n",
       "3  100008010         1         4     3         3         9     2           8   \n",
       "4  100008034         1         1    42        20         5     1           1   \n",
       "\n",
       "  asiste_esc tipo_esc  ... cuid_perso lavandero chofer cocinero jardinero  \\\n",
       "0          2           ...                                                  \n",
       "1          1        1  ...                                                  \n",
       "2          2           ...                                                  \n",
       "3          2           ...                                                  \n",
       "4          2           ...          2         2      2        2         2   \n",
       "\n",
       "  tot_integ tot_hom tot_muj entidad municipio  \n",
       "0         4       2       2      10       010  \n",
       "1         4       2       2      10       010  \n",
       "2         4       2       2      10       010  \n",
       "3         4       2       2      10       010  \n",
       "4         5       4       1      10       010  \n",
       "\n",
       "[5 rows x 71 columns]"
      ]
     },
     "execution_count": 11,
     "metadata": {},
     "output_type": "execute_result"
    }
   ],
   "source": [
    "merged_data = pd.merge(data1, data2, on=['foliohog', 'folioviv'])\n",
    "merged_data.head()\n",
    "data = pd.merge(merged_data, data3, on=['folioviv'])\n",
    "data.head()"
   ]
  },
  {
   "cell_type": "markdown",
   "id": "bbb8bf42",
   "metadata": {},
   "source": [
    "# Columnas Numéricas y/o No Numéricas"
   ]
  },
  {
   "cell_type": "code",
   "execution_count": 12,
   "id": "764b8270",
   "metadata": {},
   "outputs": [],
   "source": [
    "# Hacer una copia del DataFrame original\n",
    "struct_data = data.copy()\n",
    "# Seleccionar las columnas numéricas\n",
    "numeric_columns = list(struct_data.select_dtypes(include=[np.number]).columns)\n",
    "# Seleccionar las columnas no numéricas\n",
    "non_numeric_columns = list(struct_data.select_dtypes(exclude=[np.number]).columns)"
   ]
  },
  {
   "cell_type": "markdown",
   "id": "1858d6f7",
   "metadata": {},
   "source": [
    "# Limpieza de Datos"
   ]
  },
  {
   "cell_type": "markdown",
   "id": "04669d52",
   "metadata": {},
   "source": [
    "Limpieza Mortalidad"
   ]
  },
  {
   "cell_type": "code",
   "execution_count": 13,
   "id": "f407691b",
   "metadata": {},
   "outputs": [],
   "source": [
    "non_numeric_columns2 = list(grupo_mortalidad.select_dtypes(exclude=[np.number]).columns)\n",
    "\n",
    "# Definir columnas a procesar\n",
    "columns_to_process = non_numeric_columns2#['nacio_dia', 'nacio_mes', 'asiste_esc', 'tipo_esc', 'turno_esc', 'tiene_beca']\n",
    "\n",
    "# Reemplazar caracteres no válidos y valores vacíos\n",
    "for col in columns_to_process:\n",
    "    grupo_mortalidad[col] = grupo_mortalidad[col].replace({'&': np.nan, ' ': np.nan})\n",
    "    grupo_mortalidad[col] = pd.to_numeric(grupo_mortalidad[col], errors='coerce')\n",
    "for col in columns_to_process:\n",
    "    grupo_mortalidad[col].fillna(grupo_mortalidad[col].mean(), inplace=True)\n",
    "# Reemplazar `NaN` con 0\n",
    "grupo_mortalidad = grupo_mortalidad.fillna(0) "
   ]
  },
  {
   "cell_type": "markdown",
   "id": "5640acb4",
   "metadata": {},
   "source": [
    "Limpieza Data"
   ]
  },
  {
   "cell_type": "code",
   "execution_count": 14,
   "id": "e5ce8d5b",
   "metadata": {},
   "outputs": [],
   "source": [
    "# Definir columnas a procesar\n",
    "columns_to_process = non_numeric_columns#['nacio_dia', 'nacio_mes', 'asiste_esc', 'tipo_esc', 'turno_esc', 'tiene_beca']\n",
    "\n",
    "# Reemplazar caracteres no válidos y valores vacíos\n",
    "for col in columns_to_process:\n",
    "    struct_data[col] = struct_data[col].replace({'&': np.nan, ' ': np.nan})\n",
    "    struct_data[col] = pd.to_numeric(data[col], errors='coerce')\n",
    "for col in columns_to_process:\n",
    "    struct_data[col].fillna(struct_data[col].mean(), inplace=True)\n",
    "# Reemplazar `NaN` con 0\n",
    "struct_data = struct_data.fillna(0)  \n"
   ]
  },
  {
   "cell_type": "markdown",
   "id": "ff998de6",
   "metadata": {},
   "source": [
    "Renombrar Columnas"
   ]
  },
  {
   "cell_type": "code",
   "execution_count": 15,
   "id": "e8aa674b",
   "metadata": {},
   "outputs": [],
   "source": [
    "# Renombrar las columnas en 'data' para que coincidan con las de 'grupo_mortalidad'\n",
    "struct_data = struct_data.rename(columns={\n",
    "    'entidad': 'ent_resid',\n",
    "    'municipio': 'mun_resid'\n",
    "})\n",
    "struct_data['ent_resid'] = struct_data['ent_resid'].astype(int)\n",
    "struct_data['mun_resid'] = struct_data['mun_resid'].astype(int)\n",
    "struct_data['sexo'] = struct_data['sexo'].astype(int)\n",
    "struct_data['edad'] = struct_data['edad'].astype(int)\n",
    "\n",
    "grupo_mortalidad['ent_resid'] = grupo_mortalidad['ent_resid'].astype(int)\n",
    "grupo_mortalidad['mun_resid'] = grupo_mortalidad['mun_resid'].astype(int)\n",
    "grupo_mortalidad['sexo'] = grupo_mortalidad['sexo'].astype(int)"
   ]
  },
  {
   "cell_type": "markdown",
   "id": "c5680baf",
   "metadata": {},
   "source": [
    "Merge Mortalidad y Data y seleccion de Datos Numericos para Verificar"
   ]
  },
  {
   "cell_type": "code",
   "execution_count": 16,
   "id": "52658a50",
   "metadata": {},
   "outputs": [
    {
     "name": "stdout",
     "output_type": "stream",
     "text": [
      "Numeric columns: ['folioviv', 'foliohog', 'id_pobla', 'edad', 'nacio_dia', 'nacio_mes', 'sexo', 'parentesco', 'asiste_esc', 'tipo_esc', 'turno_esc', 'tiene_beca', 'otorg_beca', 'forma_beca', 'no_asiste', 'grado_inst', 'nivel_inst', 'residencia', 'alfabetism', 'edo_conyug', 'trabajo_sp', 'motivo_aus', 'act_buscot', 'act_pensio', 'act_quehac', 'act_estudi', 'act_discap', 'act_otra', 'num_trabaj', 'subor', 'indep', 'personal', 'pago', 'contrato', 'lentes', 'dif_ver', 'a_auditivo', 'dif_oir', 'sin_ruido', 'con_ruido', 'dif_camina', 'usa_aparat', 'ap_caminar', 'cam_100mts', 'cam_500mts', 'sube_12esc', 'dif_record', 'frec_nerv', 'med_nerv', 'inte_nerv', 'frec_depre', 'med_depre', 'inte_depre', 'frec_dolor', 'inte_dolor', 'frec_cansa', 'tiem_cansa', 'inte_cansa', 'huespedes', 'huesp_come', 'trabaja_do', 'cuid_perso', 'lavandero', 'chofer', 'cocinero', 'jardinero', 'tot_integ', 'tot_hom', 'tot_muj', 'ent_resid', 'mun_resid', 'suicidios']\n"
     ]
    }
   ],
   "source": [
    "# Realizar la unión de los DataFrames\n",
    "struct_data = pd.merge(struct_data, grupo_mortalidad, on=['ent_resid', 'mun_resid', 'sexo'], how='left')\n",
    "\n",
    "# Seleccionar las columnas numéricas\n",
    "numeric_columns = list(struct_data.select_dtypes(include=[np.number]).columns)\n",
    "\n",
    "# Imprimir las columnas numéricas\n",
    "print(\"Numeric columns:\", numeric_columns)"
   ]
  },
  {
   "cell_type": "code",
   "execution_count": 17,
   "id": "91d11ccb",
   "metadata": {},
   "outputs": [
    {
     "name": "stdout",
     "output_type": "stream",
     "text": [
      "Columnas que contienen NaN:\n",
      "[]\n"
     ]
    }
   ],
   "source": [
    "struct_data = struct_data.fillna(0)  # Reemplazar `NaN` con 0\n",
    "# Crear un DataFrame de ejemplo\n",
    "df = pd.DataFrame(struct_data)\n",
    "\n",
    "# Obtener una lista de columnas que contienen NaN\n",
    "columnas_con_nan = df.columns[df.isna().any()].tolist()\n",
    "\n",
    "print(\"Columnas que contienen NaN:\")\n",
    "print(columnas_con_nan)"
   ]
  },
  {
   "cell_type": "markdown",
   "id": "1dd8d194",
   "metadata": {},
   "source": [
    "# Crear la columna 'suicidio' \n"
   ]
  },
  {
   "cell_type": "code",
   "execution_count": 18,
   "id": "8ee322be",
   "metadata": {},
   "outputs": [],
   "source": [
    "# Crear la columna 'suicidio' y 'depresion' usando operaciones vectorizadas\n",
    "struct_data['suicidio'] = (struct_data['suicidios'] >= 1).astype(int)\n",
    "struct_data['depresion'] = struct_data['frec_depre'].apply(lambda x: 1 if x in [1, 2, 3, 4] else 0)\n",
    "# Eliminar las columnas 'suicidios' y 'frec_depre' del DataFrame\n",
    "struct_data.drop(columns=['suicidios'], inplace=True)"
   ]
  },
  {
   "cell_type": "code",
   "execution_count": 19,
   "id": "dd1993a4",
   "metadata": {},
   "outputs": [
    {
     "name": "stdout",
     "output_type": "stream",
     "text": [
      "Número de registros con depresion=1: 55845\n",
      "Número de registros con depresion=0: 152295\n"
     ]
    }
   ],
   "source": [
    "# Contar y mostrar el número de registros para cada valor en la columna 'depresion'\n",
    "depresion_counts = struct_data['depresion'].value_counts()\n",
    "print(\"Número de registros con depresion=1:\", depresion_counts.get(1, 0))\n",
    "print(\"Número de registros con depresion=0:\", depresion_counts.get(0, 0))\n"
   ]
  },
  {
   "cell_type": "markdown",
   "id": "9fa01b88",
   "metadata": {},
   "source": [
    "# Variable y"
   ]
  },
  {
   "cell_type": "code",
   "execution_count": 20,
   "id": "55d9abcb",
   "metadata": {},
   "outputs": [],
   "source": [
    "y = struct_data.suicidio"
   ]
  },
  {
   "cell_type": "markdown",
   "id": "12771f9a",
   "metadata": {},
   "source": [
    "# Variables X"
   ]
  },
  {
   "cell_type": "code",
   "execution_count": 21,
   "id": "87fd3718",
   "metadata": {},
   "outputs": [],
   "source": [
    "X = struct_data.drop(columns='suicidio')"
   ]
  },
  {
   "cell_type": "markdown",
   "id": "4838c141",
   "metadata": {},
   "source": [
    "# Balanceo de Datos"
   ]
  },
  {
   "cell_type": "code",
   "execution_count": 22,
   "id": "21e4fa6e",
   "metadata": {},
   "outputs": [
    {
     "name": "stdout",
     "output_type": "stream",
     "text": [
      "Antes del balanceo:\n",
      "Sin Suicidios 97376\n",
      "Suicidios 110764\n"
     ]
    }
   ],
   "source": [
    "print(\"Antes del balanceo:\")\n",
    "print('Sin Suicidios', np.sum(y == 0))\n",
    "print('Suicidios', np.sum(y == 1))"
   ]
  },
  {
   "cell_type": "code",
   "execution_count": 23,
   "id": "97945944",
   "metadata": {},
   "outputs": [],
   "source": [
    "if X.isnull().values.any():\n",
    "    raise ValueError(\"X contiene valores nulos\")\n",
    "if pd.isnull(y).values.any():\n",
    "    raise ValueError(\"y contiene valores nulos\")"
   ]
  },
  {
   "cell_type": "code",
   "execution_count": 24,
   "id": "6bf919ab",
   "metadata": {},
   "outputs": [],
   "source": [
    "from sklearn.model_selection import train_test_split\n",
    "from imblearn.over_sampling import SMOTE\n",
    "smote = SMOTE(sampling_strategy='all', random_state=42) #sampling_strategy='auto'#\n",
    "X_balanced, y_balanced = smote.fit_resample(X, y)"
   ]
  },
  {
   "cell_type": "code",
   "execution_count": 25,
   "id": "e62bfd06",
   "metadata": {},
   "outputs": [
    {
     "name": "stdout",
     "output_type": "stream",
     "text": [
      "Después del balanceo:\n",
      "Sin Suicidios 110764\n",
      "Suicidios 110764\n"
     ]
    }
   ],
   "source": [
    "# Contar el número de muestras en cada clase después del balanceo\n",
    "print(\"Después del balanceo:\")\n",
    "print('Sin Suicidios', np.sum(y_balanced == 0))\n",
    "print('Suicidios', np.sum(y_balanced == 1))\n"
   ]
  },
  {
   "cell_type": "markdown",
   "id": "1e4f571e",
   "metadata": {},
   "source": [
    "conteo balanceado con depresion "
   ]
  },
  {
   "cell_type": "code",
   "execution_count": 29,
   "id": "18516f75",
   "metadata": {},
   "outputs": [
    {
     "name": "stdout",
     "output_type": "stream",
     "text": [
      "Número de registros con depresion=1 y suicidio=1: 28087\n",
      "Número de registros con depresion=1 y suicidio=0: 27758\n",
      "Número de registros con depresion=0 y suicidio=1: 82677\n",
      "Número de registros con depresion=0 y suicidio=0: 69618\n"
     ]
    }
   ],
   "source": [
    "# Filtrar los conteos específicos\n",
    "conteo_depresion_suicidio = struct_data[(struct_data['depresion'] == 1) & (struct_data['suicidio'] == 1)].shape[0]\n",
    "conteo_depresion_no_suicidio = struct_data[(struct_data['depresion'] == 1) & (struct_data['suicidio'] == 0)].shape[0]\n",
    "conteo_no_depresion_suicidio = struct_data[(struct_data['depresion'] == 0) & (struct_data['suicidio'] == 1)].shape[0]\n",
    "conteo_no_depresion_no_suicidio = struct_data[(struct_data['depresion'] == 0) & (struct_data['suicidio'] == 0)].shape[0]\n",
    "\n",
    "# Imprimir los resultados\n",
    "print(\"Número de registros con depresion=1 y suicidio=1:\", conteo_depresion_suicidio)\n",
    "print(\"Número de registros con depresion=1 y suicidio=0:\", conteo_depresion_no_suicidio)\n",
    "print(\"Número de registros con depresion=0 y suicidio=1:\", conteo_no_depresion_suicidio)\n",
    "print(\"Número de registros con depresion=0 y suicidio=0:\", conteo_no_depresion_no_suicidio)\n"
   ]
  },
  {
   "cell_type": "code",
   "execution_count": 30,
   "id": "a68d34b6",
   "metadata": {},
   "outputs": [
    {
     "name": "stdout",
     "output_type": "stream",
     "text": [
      "Número de registros con depresion=1 y sexo=1: 22590\n",
      "Número de registros con depresion=1 y sexo=2: 33255\n",
      "Número de registros con depresion=0 y sexo=1: 79196\n",
      "Número de registros con depresion=0 y sexo=2 73099\n"
     ]
    }
   ],
   "source": [
    "# Filtrar los conteos específicos\n",
    "conteo_depresion_1sexo = struct_data[(struct_data['depresion'] == 1) & (struct_data['sexo'] == 1)].shape[0]\n",
    "conteo_depresion_2_sexo = struct_data[(struct_data['depresion'] == 1) & (struct_data['sexo'] == 2)].shape[0]\n",
    "conteo_no_depresion_1sexo = struct_data[(struct_data['depresion'] == 0) & (struct_data['sexo'] == 1)].shape[0]\n",
    "conteo_no_depresion_2_suicidio = struct_data[(struct_data['depresion'] == 0) & (struct_data['sexo'] == 2)].shape[0]\n",
    "\n",
    "# Imprimir los resultados\n",
    "print(\"Número de registros con depresion=1 y sexo=1:\", conteo_depresion_1sexo)\n",
    "print(\"Número de registros con depresion=1 y sexo=2:\", conteo_depresion_2_sexo)\n",
    "print(\"Número de registros con depresion=0 y sexo=1:\", conteo_no_depresion_1sexo)\n",
    "print(\"Número de registros con depresion=0 y sexo=2\", conteo_no_depresion_2_suicidio)"
   ]
  },
  {
   "cell_type": "code",
   "execution_count": 32,
   "id": "99a74f31",
   "metadata": {},
   "outputs": [],
   "source": [
    "from sklearn.impute import SimpleImputer\n",
    "\n",
    "# Crear un imputador que rellene los valores faltantes con la media de cada columna\n",
    "imputer = SimpleImputer(strategy='mean')\n",
    "\n",
    "# Ajustar el imputador a los datos y transformar X1\n",
    "X1_imputed = imputer.fit_transform(X_balanced)\n",
    "\n",
    "# Convertir de nuevo a DataFrame\n",
    "X1_imputed = pd.DataFrame(X1_imputed, columns=X_balanced.columns)\n"
   ]
  },
  {
   "cell_type": "code",
   "execution_count": 33,
   "id": "d4670d98",
   "metadata": {},
   "outputs": [
    {
     "name": "stdout",
     "output_type": "stream",
     "text": [
      "Número de registros con depresion=1 después de balanceo: 110764\n",
      "Número de registros con depresion=0 después de balanceo: 110764\n"
     ]
    }
   ],
   "source": [
    "from imblearn.over_sampling import SMOTE\n",
    "import pandas as pd\n",
    "\n",
    "# Usar los datos ya balanceados\n",
    "X1 = X1_imputed  # Todas las características balanceadas\n",
    "y1 = y_balanced  # Variable objetivo balanceada es 'depresion'\n",
    "\n",
    "# Aplicar SMOTE solo a 'depresion' si es necesario (aunque ya está balanceado)\n",
    "smote = SMOTE(random_state=42)\n",
    "X_resampled, y_resampled = smote.fit_resample(X1, y1)\n",
    "\n",
    "# Convertir X_resampled de nuevo a DataFrame si es necesario\n",
    "X1_resampled = pd.DataFrame(X_resampled, columns=X1.columns)\n",
    "\n",
    "# Verificar los nuevos conteos balanceados\n",
    "conteos_balanceados = pd.Series(y_resampled).value_counts()\n",
    "print(\"Número de registros con depresion=1 después de balanceo:\", conteos_balanceados[1])\n",
    "print(\"Número de registros con depresion=0 después de balanceo:\", conteos_balanceados[0])\n"
   ]
  },
  {
   "cell_type": "markdown",
   "id": "695e8433",
   "metadata": {},
   "source": [
    "# Estandarización de variables"
   ]
  },
  {
   "cell_type": "code",
   "execution_count": 35,
   "id": "e8da1bd6",
   "metadata": {},
   "outputs": [],
   "source": [
    "from sklearn.preprocessing import MinMaxScaler\n",
    "import pandas as pd\n",
    "#X_resampled, y_resampled\n",
    "# Supongamos que ya tienes tus datos X y y\n",
    "# X: DataFrame de características\n",
    "# y: Serie o DataFrame de la variable objetivo\n",
    "\n",
    "# Crear el escalador\n",
    "scaler = MinMaxScaler()\n",
    "\n",
    "# Ajustar y transformar los datos X\n",
    "X_scaled = scaler.fit_transform(X_resampled)#scaler.fit_transform(X_balanced)\n",
    "df_X_scaled = pd.DataFrame(X_scaled, columns=X1.columns)\n",
    "\n",
    "# Si y es continuo, escalar y también\n",
    "if y.dtype in ['float64', 'int64']:\n",
    "    y_scaled = scaler.fit_transform(y1.values.reshape(-1, 1))\n",
    "    df_y_scaled = pd.DataFrame(y_scaled, columns=['suicidios'])\n",
    "else:\n",
    "    df_y_scaled = y_balanced.copy()  # Si y es categórico, no se escala\n",
    "\n",
    "# Opcional: combinar X y y escalados en un solo DataFrame\n",
    "df_combined_scaled = pd.concat([df_X_scaled, df_y_scaled], axis=1)\n",
    "\n",
    "# Si deseas establecer el mismo índice que el DataFrame original\n",
    "#df_combined_scaled.set_index(X_balanced.index, inplace=True)\n",
    "df_combined_scaled.set_index(X_resampled.index, inplace=True)\n",
    "\n",
    "# Calcular la media de las características escaladas (por filas)\n",
    "mean = df_X_scaled.mean(axis=1)"
   ]
  },
  {
   "cell_type": "markdown",
   "id": "732018b3",
   "metadata": {},
   "source": [
    "# Random Forest "
   ]
  },
  {
   "cell_type": "code",
   "execution_count": 36,
   "id": "749e7cae",
   "metadata": {},
   "outputs": [],
   "source": [
    "from sklearn.ensemble import RandomForestClassifier\n",
    "import pandas as pd\n",
    "from sklearn.preprocessing import MinMaxScaler\n",
    "\n",
    "# Suponiendo que 'X' es tu DataFrame de características y 'y' es tu variable objetivo\n",
    "\n",
    "# Escalar los datos\n",
    "#scaler = MinMaxScaler()\n",
    "#X_scaled = scaler.fit_transform(X_resampled)\n",
    "y_scaled = y_scaled.ravel()  # Convertir 'y' en un arreglo 1D\n",
    "\n",
    "# Ajustar el modelo\n",
    "model = RandomForestClassifier()\n",
    "model.fit(X_scaled, y_scaled)\n",
    "\n",
    "# Importancia de las características\n",
    "importances = model.feature_importances_\n",
    "feature_importances = pd.Series(importances, index=X_resampled.columns)\n",
    "feature_importances.sort_values(ascending=False, inplace=True)\n",
    "\n",
    "# Mostrar las importancias de las características\n",
    "# Crear un DataFrame con los nombres de las columnas y sus valores de importancia de características\n",
    "df_importance = pd.DataFrame({\n",
    "    'Column_Names': X_resampled.columns,\n",
    "    'Random_Forest': importances\n",
    "})\n",
    "\n",
    "df_importance.sort_values(by='Random_Forest', ascending=False, inplace=True)"
   ]
  },
  {
   "cell_type": "code",
   "execution_count": null,
   "id": "d4f389bf",
   "metadata": {},
   "outputs": [],
   "source": [
    "df_importance.to_excel('/Users/iris.guerrah/Desktop/TESINA/SUICIDIO/random_forest.xlsx', index=False)\n"
   ]
  },
  {
   "cell_type": "code",
   "execution_count": 37,
   "id": "2eaa25a8",
   "metadata": {},
   "outputs": [],
   "source": [
    "import pandas as pd\n",
    "from sklearn.feature_selection import mutual_info_regression\n",
    "\n",
    "# Suponiendo que ya tienes tus datos X e y\n",
    "# X: DataFrame de características\n",
    "# y: Serie o DataFrame de la variable objetivo\n",
    "\n",
    "# Calcular la información mutua\n",
    "mi_scores = mutual_info_regression(X_scaled, y_scaled)\n",
    "\n",
    "# Crear un DataFrame con los nombres de las columnas y sus valores de información mutua\n",
    "df_mi = pd.DataFrame({\n",
    "    'Column_Names': X1.columns,\n",
    "    'Mutual_Information': mi_scores\n",
    "})\n",
    "\n",
    "# Ordenar el DataFrame por la información mutua en orden descendente\n",
    "df_mi.sort_values(by='Mutual_Information', ascending=False, inplace=True)"
   ]
  },
  {
   "cell_type": "code",
   "execution_count": null,
   "id": "a923e6eb",
   "metadata": {},
   "outputs": [],
   "source": [
    "df_mi.to_excel('/Users/iris.guerrah/Desktop/TESINA/SUICIDIO/Mutual_Information.xlsx', index=False)"
   ]
  },
  {
   "cell_type": "markdown",
   "id": "8843681c",
   "metadata": {},
   "source": [
    "# Juntarlo en la misma tabla"
   ]
  },
  {
   "cell_type": "code",
   "execution_count": 38,
   "id": "d7edd84e",
   "metadata": {},
   "outputs": [
    {
     "name": "stdout",
     "output_type": "stream",
     "text": [
      "   Column_Names  Mutual_Information  Random_Forest\n",
      "0      folioviv            0.544798       0.244404\n",
      "3    residencia            0.245783       0.150392\n",
      "1     ent_resid            0.267856       0.117295\n",
      "2     mun_resid            0.252859       0.111337\n",
      "4          sexo            0.052767       0.042947\n",
      "..          ...                 ...            ...\n",
      "61   act_estudi            0.001011       0.000000\n",
      "62   act_buscot            0.000497       0.000000\n",
      "64   act_discap            0.000150       0.000000\n",
      "66   act_quehac            0.000040       0.000000\n",
      "70   act_pensio            0.000000       0.000000\n",
      "\n",
      "[72 rows x 3 columns]\n"
     ]
    }
   ],
   "source": [
    "# Unir los dos DataFrames en uno solo\n",
    "df_combined = pd.merge(df_mi, df_importance, on='Column_Names')\n",
    "\n",
    "# Ordenar el DataFrame combinado por la importancia de características en orden descendente\n",
    "df_combined.sort_values(by='Random_Forest', ascending=False, inplace=True)\n",
    "\n",
    "# Mostrar el DataFrame combinado\n",
    "print(df_combined)"
   ]
  },
  {
   "cell_type": "code",
   "execution_count": null,
   "id": "8667d02a",
   "metadata": {},
   "outputs": [],
   "source": [
    "df_combined.to_excel('/Users/iris.guerrah/Desktop/TESINA/SUICIDIO/combined_feature_importance_and_mutual_information.xlsx', index=False)"
   ]
  },
  {
   "cell_type": "markdown",
   "id": "9538f5f1",
   "metadata": {},
   "source": [
    "# Correlacion de Informacion Mutua"
   ]
  },
  {
   "cell_type": "code",
   "execution_count": 39,
   "id": "bd989294",
   "metadata": {},
   "outputs": [
    {
     "name": "stdout",
     "output_type": "stream",
     "text": [
      "Columnas en X_scaled_df: Index(['folioviv', 'foliohog', 'id_pobla', 'edad', 'nacio_dia', 'nacio_mes',\n",
      "       'sexo', 'parentesco', 'asiste_esc', 'tipo_esc', 'turno_esc',\n",
      "       'tiene_beca', 'otorg_beca', 'forma_beca', 'no_asiste', 'grado_inst',\n",
      "       'nivel_inst', 'residencia', 'alfabetism', 'edo_conyug', 'trabajo_sp',\n",
      "       'motivo_aus', 'act_buscot', 'act_pensio', 'act_quehac', 'act_estudi',\n",
      "       'act_discap', 'act_otra', 'num_trabaj', 'subor', 'indep', 'personal',\n",
      "       'pago', 'contrato', 'lentes', 'dif_ver', 'a_auditivo', 'dif_oir',\n",
      "       'sin_ruido', 'con_ruido', 'dif_camina', 'usa_aparat', 'ap_caminar',\n",
      "       'cam_100mts', 'cam_500mts', 'sube_12esc', 'dif_record', 'frec_nerv',\n",
      "       'med_nerv', 'inte_nerv', 'frec_depre', 'med_depre', 'inte_depre',\n",
      "       'frec_dolor', 'inte_dolor', 'frec_cansa', 'tiem_cansa', 'inte_cansa',\n",
      "       'huespedes', 'huesp_come', 'trabaja_do', 'cuid_perso', 'lavandero',\n",
      "       'chofer', 'cocinero', 'jardinero', 'tot_integ', 'tot_hom', 'tot_muj',\n",
      "       'ent_resid', 'mun_resid', 'depresion'],\n",
      "      dtype='object')\n",
      "Características seleccionadas: ['folioviv', 'ent_resid', 'mun_resid', 'residencia', 'sexo', 'depresion', 'nacio_dia', 'nacio_mes', 'nivel_inst', 'grado_inst', 'edo_conyug', 'frec_nerv', 'inte_nerv', 'subor', 'trabajo_sp', 'contrato', 'pago', 'frec_depre', 'num_trabaj', 'frec_cansa']\n",
      "Características válidas después de la verificación: ['folioviv', 'ent_resid', 'mun_resid', 'residencia', 'sexo', 'depresion', 'nacio_dia', 'nacio_mes', 'nivel_inst', 'grado_inst', 'edo_conyug', 'frec_nerv', 'inte_nerv', 'subor', 'trabajo_sp', 'contrato', 'pago', 'frec_depre', 'num_trabaj', 'frec_cansa']\n"
     ]
    },
    {
     "data": {
      "image/png": "[encoded data removed]",
      "text/plain": [
       "<Figure size 1440x1440 with 2 Axes>"
      ]
     },
     "metadata": {
      "needs_background": "light"
     },
     "output_type": "display_data"
    }
   ],
   "source": [
    "#correlacion de Informacion Mutua\n",
    "import pandas as pd\n",
    "import seaborn as sns\n",
    "import matplotlib.pyplot as plt\n",
    "from sklearn.feature_selection import mutual_info_regression\n",
    "\n",
    "# Suponiendo que ya tienes tus datos X e y\n",
    "# X: DataFrame de características\n",
    "# y: Serie o DataFrame de la variable objetivo\n",
    "\n",
    "# Calcular la información mutua\n",
    "mi_scores = mutual_info_regression(X_scaled, y_scaled)\n",
    "\n",
    "# Crear un DataFrame con los nombres de las columnas y sus valores de información mutua\n",
    "df_mi = pd.DataFrame({\n",
    "    'Column_Names': X1.columns,  # Asegúrate de usar las columnas de X\n",
    "    'Mutual_Information': mi_scores\n",
    "})\n",
    "\n",
    "# Ordenar el DataFrame por la información mutua en orden descendente\n",
    "df_mi.sort_values(by='Mutual_Information', ascending=False, inplace=True)\n",
    "\n",
    "# Seleccionar las 20 mejores características\n",
    "top_20_features = df_mi.head(20)['Column_Names'].tolist()\n",
    "\n",
    "# Convertir X_scaled a un DataFrame\n",
    "X_scaled_df = pd.DataFrame(X_scaled, columns=X.columns)\n",
    "\n",
    "# Imprimir para depuración\n",
    "print(\"Columnas en X_scaled_df:\", X_scaled_df.columns)\n",
    "print(\"Características seleccionadas:\", top_20_features)\n",
    "\n",
    "# Verificar que todas las características existen en X_scaled_df\n",
    "top_20_features = [feature for feature in top_20_features if feature in X_scaled_df.columns]\n",
    "\n",
    "print(\"Características válidas después de la verificación:\", top_20_features)\n",
    "\n",
    "# Calcular la matriz de correlación para las 20 mejores características\n",
    "corr_matrix = X_scaled_df[top_20_features].corr()\n",
    "\n",
    "# Mostrar un mapa de calor de la matriz de correlación\n",
    "plt.figure(figsize=(20, 20))\n",
    "sns.heatmap(corr_matrix, annot=True, cmap='coolwarm', fmt='.2f')\n",
    "plt.title('Matriz de Correlación de las 20 Mejores Características por Información Mutua')\n",
    "plt.show()\n"
   ]
  },
  {
   "cell_type": "code",
   "execution_count": 40,
   "id": "69f0d538",
   "metadata": {},
   "outputs": [
    {
     "data": {
      "text/html": [
       "<div>\n",
       "<style scoped>\n",
       "    .dataframe tbody tr th:only-of-type {\n",
       "        vertical-align: middle;\n",
       "    }\n",
       "\n",
       "    .dataframe tbody tr th {\n",
       "        vertical-align: top;\n",
       "    }\n",
       "\n",
       "    .dataframe thead th {\n",
       "        text-align: right;\n",
       "    }\n",
       "</style>\n",
       "<table border=\"1\" class=\"dataframe\">\n",
       "  <thead>\n",
       "    <tr style=\"text-align: right;\">\n",
       "      <th></th>\n",
       "      <th>Column_Names</th>\n",
       "      <th>Mutual_Information</th>\n",
       "    </tr>\n",
       "  </thead>\n",
       "  <tbody>\n",
       "    <tr>\n",
       "      <th>0</th>\n",
       "      <td>folioviv</td>\n",
       "      <td>0.544255</td>\n",
       "    </tr>\n",
       "    <tr>\n",
       "      <th>69</th>\n",
       "      <td>ent_resid</td>\n",
       "      <td>0.268317</td>\n",
       "    </tr>\n",
       "    <tr>\n",
       "      <th>70</th>\n",
       "      <td>mun_resid</td>\n",
       "      <td>0.253607</td>\n",
       "    </tr>\n",
       "    <tr>\n",
       "      <th>17</th>\n",
       "      <td>residencia</td>\n",
       "      <td>0.248642</td>\n",
       "    </tr>\n",
       "    <tr>\n",
       "      <th>6</th>\n",
       "      <td>sexo</td>\n",
       "      <td>0.055186</td>\n",
       "    </tr>\n",
       "    <tr>\n",
       "      <th>71</th>\n",
       "      <td>depresion</td>\n",
       "      <td>0.046099</td>\n",
       "    </tr>\n",
       "    <tr>\n",
       "      <th>4</th>\n",
       "      <td>nacio_dia</td>\n",
       "      <td>0.038082</td>\n",
       "    </tr>\n",
       "    <tr>\n",
       "      <th>5</th>\n",
       "      <td>nacio_mes</td>\n",
       "      <td>0.036604</td>\n",
       "    </tr>\n",
       "    <tr>\n",
       "      <th>16</th>\n",
       "      <td>nivel_inst</td>\n",
       "      <td>0.032946</td>\n",
       "    </tr>\n",
       "    <tr>\n",
       "      <th>15</th>\n",
       "      <td>grado_inst</td>\n",
       "      <td>0.032490</td>\n",
       "    </tr>\n",
       "    <tr>\n",
       "      <th>19</th>\n",
       "      <td>edo_conyug</td>\n",
       "      <td>0.025244</td>\n",
       "    </tr>\n",
       "    <tr>\n",
       "      <th>47</th>\n",
       "      <td>frec_nerv</td>\n",
       "      <td>0.025142</td>\n",
       "    </tr>\n",
       "    <tr>\n",
       "      <th>49</th>\n",
       "      <td>inte_nerv</td>\n",
       "      <td>0.023498</td>\n",
       "    </tr>\n",
       "    <tr>\n",
       "      <th>29</th>\n",
       "      <td>subor</td>\n",
       "      <td>0.022360</td>\n",
       "    </tr>\n",
       "    <tr>\n",
       "      <th>20</th>\n",
       "      <td>trabajo_sp</td>\n",
       "      <td>0.021483</td>\n",
       "    </tr>\n",
       "    <tr>\n",
       "      <th>33</th>\n",
       "      <td>contrato</td>\n",
       "      <td>0.021033</td>\n",
       "    </tr>\n",
       "    <tr>\n",
       "      <th>32</th>\n",
       "      <td>pago</td>\n",
       "      <td>0.020245</td>\n",
       "    </tr>\n",
       "    <tr>\n",
       "      <th>50</th>\n",
       "      <td>frec_depre</td>\n",
       "      <td>0.020123</td>\n",
       "    </tr>\n",
       "    <tr>\n",
       "      <th>28</th>\n",
       "      <td>num_trabaj</td>\n",
       "      <td>0.020039</td>\n",
       "    </tr>\n",
       "    <tr>\n",
       "      <th>55</th>\n",
       "      <td>frec_cansa</td>\n",
       "      <td>0.019070</td>\n",
       "    </tr>\n",
       "  </tbody>\n",
       "</table>\n",
       "</div>"
      ],
      "text/plain": [
       "   Column_Names  Mutual_Information\n",
       "0      folioviv            0.544255\n",
       "69    ent_resid            0.268317\n",
       "70    mun_resid            0.253607\n",
       "17   residencia            0.248642\n",
       "6          sexo            0.055186\n",
       "71    depresion            0.046099\n",
       "4     nacio_dia            0.038082\n",
       "5     nacio_mes            0.036604\n",
       "16   nivel_inst            0.032946\n",
       "15   grado_inst            0.032490\n",
       "19   edo_conyug            0.025244\n",
       "47    frec_nerv            0.025142\n",
       "49    inte_nerv            0.023498\n",
       "29        subor            0.022360\n",
       "20   trabajo_sp            0.021483\n",
       "33     contrato            0.021033\n",
       "32         pago            0.020245\n",
       "50   frec_depre            0.020123\n",
       "28   num_trabaj            0.020039\n",
       "55   frec_cansa            0.019070"
      ]
     },
     "execution_count": 40,
     "metadata": {},
     "output_type": "execute_result"
    }
   ],
   "source": [
    "df_combined.sort_values('Mutual_Information', ascending=False,  inplace = True)\n",
    "df_efs_best_20 = df_mi.iloc[:20]\n",
    "df_efs_best_20"
   ]
  },
  {
   "cell_type": "markdown",
   "id": "a135cd23",
   "metadata": {},
   "source": [
    "# CasualNex"
   ]
  },
  {
   "cell_type": "code",
   "execution_count": 41,
   "id": "1acb435d",
   "metadata": {},
   "outputs": [],
   "source": [
    "import warnings\n",
    "from causalnex.structure import StructureModel\n",
    "\n",
    "warnings.filterwarnings(\"ignore\")  # silence warnings\n",
    "\n",
    "sm = StructureModel()"
   ]
  },
  {
   "cell_type": "code",
   "execution_count": 42,
   "id": "8f0581bb",
   "metadata": {},
   "outputs": [
    {
     "name": "stdout",
     "output_type": "stream",
     "text": [
      "[('folioviv', 'suicidio'), ('ent_resid', 'suicidio'), ('mun_resid', 'suicidio'), ('residencia', 'suicidio'), ('sexo', 'suicidio'), ('depresion', 'suicidio'), ('nacio_dia', 'suicidio'), ('nacio_mes', 'suicidio'), ('nivel_inst', 'suicidio'), ('grado_inst', 'suicidio'), ('edo_conyug', 'suicidio'), ('frec_nerv', 'suicidio'), ('inte_nerv', 'suicidio'), ('subor', 'suicidio'), ('trabajo_sp', 'suicidio'), ('contrato', 'suicidio'), ('pago', 'suicidio'), ('frec_depre', 'suicidio'), ('num_trabaj', 'suicidio'), ('frec_cansa', 'suicidio')]\n",
      "[('folioviv', 'suicidio'), ('ent_resid', 'suicidio'), ('mun_resid', 'suicidio'), ('residencia', 'suicidio'), ('sexo', 'suicidio'), ('depresion', 'suicidio'), ('nacio_dia', 'suicidio'), ('nacio_mes', 'suicidio'), ('nivel_inst', 'suicidio'), ('grado_inst', 'suicidio'), ('edo_conyug', 'suicidio'), ('frec_nerv', 'suicidio'), ('inte_nerv', 'suicidio'), ('subor', 'suicidio'), ('trabajo_sp', 'suicidio'), ('contrato', 'suicidio'), ('pago', 'suicidio'), ('frec_depre', 'suicidio'), ('num_trabaj', 'suicidio'), ('frec_cansa', 'suicidio')]\n"
     ]
    }
   ],
   "source": [
    "import itertools\n",
    "import networkx as nx\n",
    "from causalnex.structure import StructureModel\n",
    "from causalnex.plots import plot_structure, NODE_STYLE, EDGE_STYLE\n",
    "\n",
    "# Ejemplo de listas para el caso de prueba\n",
    "columnas_seleccionadas = df_efs_best_20['Column_Names'].tolist()\n",
    "#columnas_seleccionadas.append('sexo')\n",
    "# Generar combinaciones de cada columna en best_10 con la columna de y\n",
    "combinaciones = [(col, 'suicidio') for col in columnas_seleccionadas]\n",
    "\n",
    "# Mostrar las combinaciones almacenadas en la variable\n",
    "print(combinaciones)\n",
    "\n",
    "# Crear el modelo estructural\n",
    "sm = StructureModel()\n",
    "\n",
    "# Agregar bordes al modelo estructural basados en las combinaciones\n",
    "sm.add_edges_from(combinaciones)\n",
    "\n",
    "# Mostrar los bordes del modelo estructural\n",
    "print(sm.edges)"
   ]
  },
  {
   "cell_type": "code",
   "execution_count": 43,
   "id": "79f2453f",
   "metadata": {},
   "outputs": [
    {
     "name": "stdout",
     "output_type": "stream",
     "text": [
      "supporting_files/01_simple_plot.html\n"
     ]
    },
    {
     "data": {
      "text/html": [
       "\n",
       "        <iframe\n",
       "            width=\"100%\"\n",
       "            height=\"600px\"\n",
       "            src=\"supporting_files/01_simple_plot.html\"\n",
       "            frameborder=\"0\"\n",
       "            allowfullscreen\n",
       "            \n",
       "        ></iframe>\n",
       "        "
      ],
      "text/plain": [
       "<IPython.lib.display.IFrame at 0x7fcb260391f0>"
      ]
     },
     "execution_count": 43,
     "metadata": {},
     "output_type": "execute_result"
    }
   ],
   "source": [
    "from causalnex.plots import plot_structure, NODE_STYLE, EDGE_STYLE\n",
    "\n",
    "viz = plot_structure(\n",
    "    sm,\n",
    "    all_node_attributes=NODE_STYLE.WEAK,\n",
    "    all_edge_attributes=EDGE_STYLE.WEAK,\n",
    ")\n",
    "viz.show(\"supporting_files/01_simple_plot.html\")"
   ]
  },
  {
   "cell_type": "code",
   "execution_count": 44,
   "id": "bcfd7ba5",
   "metadata": {},
   "outputs": [],
   "source": [
    "# Opcional: combinar X y y escalados en un solo DataFrame\n",
    "df_X_scaled_c = df_X_scaled[columnas_seleccionadas]\n",
    "df_combined_scaled = pd.concat([df_X_scaled_c, df_y_scaled], axis=1)"
   ]
  },
  {
   "cell_type": "code",
   "execution_count": 45,
   "id": "0c4f74d3",
   "metadata": {},
   "outputs": [
    {
     "data": {
      "text/plain": [
       "0       folioviv\n",
       "1      ent_resid\n",
       "2      mun_resid\n",
       "3     residencia\n",
       "4           sexo\n",
       "5      depresion\n",
       "6      nacio_dia\n",
       "7      nacio_mes\n",
       "8     nivel_inst\n",
       "9     grado_inst\n",
       "10    edo_conyug\n",
       "11     frec_nerv\n",
       "12     inte_nerv\n",
       "13         subor\n",
       "14    trabajo_sp\n",
       "15      contrato\n",
       "16          pago\n",
       "17    frec_depre\n",
       "18    num_trabaj\n",
       "19    frec_cansa\n",
       "dtype: object"
      ]
     },
     "execution_count": 45,
     "metadata": {},
     "output_type": "execute_result"
    }
   ],
   "source": [
    "best_10 = pd.Series(columnas_seleccionadas)\n",
    "best_10"
   ]
  },
  {
   "cell_type": "code",
   "execution_count": 46,
   "id": "e43b6552",
   "metadata": {},
   "outputs": [
    {
     "data": {
      "text/html": [
       "<div>\n",
       "<style scoped>\n",
       "    .dataframe tbody tr th:only-of-type {\n",
       "        vertical-align: middle;\n",
       "    }\n",
       "\n",
       "    .dataframe tbody tr th {\n",
       "        vertical-align: top;\n",
       "    }\n",
       "\n",
       "    .dataframe thead th {\n",
       "        text-align: right;\n",
       "    }\n",
       "</style>\n",
       "<table border=\"1\" class=\"dataframe\">\n",
       "  <thead>\n",
       "    <tr style=\"text-align: right;\">\n",
       "      <th></th>\n",
       "      <th>folioviv</th>\n",
       "      <th>ent_resid</th>\n",
       "      <th>mun_resid</th>\n",
       "      <th>residencia</th>\n",
       "      <th>sexo</th>\n",
       "      <th>depresion</th>\n",
       "      <th>nacio_dia</th>\n",
       "      <th>nacio_mes</th>\n",
       "      <th>nivel_inst</th>\n",
       "      <th>grado_inst</th>\n",
       "      <th>...</th>\n",
       "      <th>frec_nerv</th>\n",
       "      <th>inte_nerv</th>\n",
       "      <th>subor</th>\n",
       "      <th>trabajo_sp</th>\n",
       "      <th>contrato</th>\n",
       "      <th>pago</th>\n",
       "      <th>frec_depre</th>\n",
       "      <th>num_trabaj</th>\n",
       "      <th>frec_cansa</th>\n",
       "      <th>suicidios</th>\n",
       "    </tr>\n",
       "  </thead>\n",
       "  <tbody>\n",
       "    <tr>\n",
       "      <th>0</th>\n",
       "      <td>0.000000e+00</td>\n",
       "      <td>0.0</td>\n",
       "      <td>0.0091</td>\n",
       "      <td>0.000000</td>\n",
       "      <td>0.0</td>\n",
       "      <td>1.0</td>\n",
       "      <td>0.500000</td>\n",
       "      <td>1.000000</td>\n",
       "      <td>0.416667</td>\n",
       "      <td>0.500000</td>\n",
       "      <td>...</td>\n",
       "      <td>0.375000</td>\n",
       "      <td>0.000000</td>\n",
       "      <td>0.292832</td>\n",
       "      <td>1.000000</td>\n",
       "      <td>0.096037</td>\n",
       "      <td>0.046308</td>\n",
       "      <td>0.125000</td>\n",
       "      <td>0.039482</td>\n",
       "      <td>0.125000</td>\n",
       "      <td>0.0</td>\n",
       "    </tr>\n",
       "    <tr>\n",
       "      <th>1</th>\n",
       "      <td>0.000000e+00</td>\n",
       "      <td>0.0</td>\n",
       "      <td>0.0091</td>\n",
       "      <td>0.000000</td>\n",
       "      <td>0.0</td>\n",
       "      <td>1.0</td>\n",
       "      <td>0.966667</td>\n",
       "      <td>0.545455</td>\n",
       "      <td>0.833333</td>\n",
       "      <td>0.666667</td>\n",
       "      <td>...</td>\n",
       "      <td>0.000000</td>\n",
       "      <td>0.000000</td>\n",
       "      <td>0.000000</td>\n",
       "      <td>0.000000</td>\n",
       "      <td>0.000000</td>\n",
       "      <td>0.000000</td>\n",
       "      <td>0.250000</td>\n",
       "      <td>0.000000</td>\n",
       "      <td>0.125000</td>\n",
       "      <td>0.0</td>\n",
       "    </tr>\n",
       "    <tr>\n",
       "      <th>2</th>\n",
       "      <td>0.000000e+00</td>\n",
       "      <td>0.0</td>\n",
       "      <td>0.0091</td>\n",
       "      <td>0.000000</td>\n",
       "      <td>1.0</td>\n",
       "      <td>1.0</td>\n",
       "      <td>0.233333</td>\n",
       "      <td>0.727273</td>\n",
       "      <td>0.250000</td>\n",
       "      <td>0.500000</td>\n",
       "      <td>...</td>\n",
       "      <td>0.125000</td>\n",
       "      <td>0.000000</td>\n",
       "      <td>0.292832</td>\n",
       "      <td>1.000000</td>\n",
       "      <td>0.096037</td>\n",
       "      <td>0.046308</td>\n",
       "      <td>0.125000</td>\n",
       "      <td>0.039482</td>\n",
       "      <td>0.125000</td>\n",
       "      <td>0.0</td>\n",
       "    </tr>\n",
       "    <tr>\n",
       "      <th>3</th>\n",
       "      <td>0.000000e+00</td>\n",
       "      <td>0.0</td>\n",
       "      <td>0.0091</td>\n",
       "      <td>0.478125</td>\n",
       "      <td>1.0</td>\n",
       "      <td>0.0</td>\n",
       "      <td>0.066667</td>\n",
       "      <td>0.727273</td>\n",
       "      <td>0.000000</td>\n",
       "      <td>0.000000</td>\n",
       "      <td>...</td>\n",
       "      <td>0.382609</td>\n",
       "      <td>0.071323</td>\n",
       "      <td>0.292832</td>\n",
       "      <td>0.405944</td>\n",
       "      <td>0.096037</td>\n",
       "      <td>0.046308</td>\n",
       "      <td>0.440621</td>\n",
       "      <td>0.039482</td>\n",
       "      <td>0.050236</td>\n",
       "      <td>0.0</td>\n",
       "    </tr>\n",
       "    <tr>\n",
       "      <th>4</th>\n",
       "      <td>7.593185e-09</td>\n",
       "      <td>0.0</td>\n",
       "      <td>0.0091</td>\n",
       "      <td>0.000000</td>\n",
       "      <td>0.0</td>\n",
       "      <td>0.0</td>\n",
       "      <td>0.633333</td>\n",
       "      <td>0.363636</td>\n",
       "      <td>0.916667</td>\n",
       "      <td>0.333333</td>\n",
       "      <td>...</td>\n",
       "      <td>0.500000</td>\n",
       "      <td>0.071323</td>\n",
       "      <td>1.000000</td>\n",
       "      <td>0.000000</td>\n",
       "      <td>0.096037</td>\n",
       "      <td>0.046308</td>\n",
       "      <td>0.500000</td>\n",
       "      <td>0.000000</td>\n",
       "      <td>0.000000</td>\n",
       "      <td>0.0</td>\n",
       "    </tr>\n",
       "  </tbody>\n",
       "</table>\n",
       "<p>5 rows × 21 columns</p>\n",
       "</div>"
      ],
      "text/plain": [
       "       folioviv  ent_resid  mun_resid  residencia  sexo  depresion  nacio_dia  \\\n",
       "0  0.000000e+00        0.0     0.0091    0.000000   0.0        1.0   0.500000   \n",
       "1  0.000000e+00        0.0     0.0091    0.000000   0.0        1.0   0.966667   \n",
       "2  0.000000e+00        0.0     0.0091    0.000000   1.0        1.0   0.233333   \n",
       "3  0.000000e+00        0.0     0.0091    0.478125   1.0        0.0   0.066667   \n",
       "4  7.593185e-09        0.0     0.0091    0.000000   0.0        0.0   0.633333   \n",
       "\n",
       "   nacio_mes  nivel_inst  grado_inst  ...  frec_nerv  inte_nerv     subor  \\\n",
       "0   1.000000    0.416667    0.500000  ...   0.375000   0.000000  0.292832   \n",
       "1   0.545455    0.833333    0.666667  ...   0.000000   0.000000  0.000000   \n",
       "2   0.727273    0.250000    0.500000  ...   0.125000   0.000000  0.292832   \n",
       "3   0.727273    0.000000    0.000000  ...   0.382609   0.071323  0.292832   \n",
       "4   0.363636    0.916667    0.333333  ...   0.500000   0.071323  1.000000   \n",
       "\n",
       "   trabajo_sp  contrato      pago  frec_depre  num_trabaj  frec_cansa  \\\n",
       "0    1.000000  0.096037  0.046308    0.125000    0.039482    0.125000   \n",
       "1    0.000000  0.000000  0.000000    0.250000    0.000000    0.125000   \n",
       "2    1.000000  0.096037  0.046308    0.125000    0.039482    0.125000   \n",
       "3    0.405944  0.096037  0.046308    0.440621    0.039482    0.050236   \n",
       "4    0.000000  0.096037  0.046308    0.500000    0.000000    0.000000   \n",
       "\n",
       "   suicidios  \n",
       "0        0.0  \n",
       "1        0.0  \n",
       "2        0.0  \n",
       "3        0.0  \n",
       "4        0.0  \n",
       "\n",
       "[5 rows x 21 columns]"
      ]
     },
     "execution_count": 46,
     "metadata": {},
     "output_type": "execute_result"
    }
   ],
   "source": [
    "# Create a DataFrame for the new entry\n",
    "new_entry = pd.DataFrame({'Column_Names': ['suicidio']})\n",
    "\n",
    "# Concatenate best_10 with the new entry DataFrame\n",
    "best_10 = pd.concat([best_10, new_entry['Column_Names']], ignore_index=True)\n",
    "\n",
    "#print(best_10)\n",
    "\n",
    "# Seleccionar las columnas en el DataFrame\n",
    "data_seleccionada = df_combined_scaled\n",
    "\n",
    "# Mostrar las primeras filas del DataFrame resultante para verificar\n",
    "data_seleccionada.head()"
   ]
  },
  {
   "cell_type": "code",
   "execution_count": null,
   "id": "662625d6",
   "metadata": {},
   "outputs": [],
   "source": [
    "len(data_seleccionada)"
   ]
  },
  {
   "cell_type": "code",
   "execution_count": 47,
   "id": "c59b104c",
   "metadata": {},
   "outputs": [
    {
     "data": {
      "text/plain": [
       "221528"
      ]
     },
     "execution_count": 47,
     "metadata": {},
     "output_type": "execute_result"
    }
   ],
   "source": [
    "dataset = data_seleccionada#.sample(n=100000)  # Obtener una muestra aleatoria de 50000 filas\n",
    "len(dataset)"
   ]
  },
  {
   "cell_type": "code",
   "execution_count": 48,
   "id": "c75ef123",
   "metadata": {},
   "outputs": [
    {
     "name": "stdout",
     "output_type": "stream",
     "text": [
      "El tiempo de carga del modelo fue de 419.83 segundos\n"
     ]
    }
   ],
   "source": [
    "import time\n",
    "from causalnex.structure.notears import from_pandas\n",
    "\n",
    "# Iniciar el temporizador\n",
    "start_time = time.time()\n",
    "\n",
    "# Cargar el modelo\n",
    "sm = from_pandas(dataset)\n",
    "sm2 = sm\n",
    "\n",
    "# Detener el temporizador\n",
    "end_time = time.time()\n",
    "\n",
    "# Calcular el tiempo transcurrido\n",
    "elapsed_time = end_time - start_time\n",
    "\n",
    "print(f\"El tiempo de carga del modelo fue de {elapsed_time:.2f} segundos\")\n"
   ]
  },
  {
   "cell_type": "code",
   "execution_count": 49,
   "id": "4dad471e",
   "metadata": {},
   "outputs": [
    {
     "name": "stdout",
     "output_type": "stream",
     "text": [
      "supporting_files/01_fully_connected.html\n"
     ]
    },
    {
     "data": {
      "text/html": [
       "\n",
       "        <iframe\n",
       "            width=\"100%\"\n",
       "            height=\"600px\"\n",
       "            src=\"supporting_files/01_fully_connected.html\"\n",
       "            frameborder=\"0\"\n",
       "            allowfullscreen\n",
       "            \n",
       "        ></iframe>\n",
       "        "
      ],
      "text/plain": [
       "<IPython.lib.display.IFrame at 0x7fcb261e54c0>"
      ]
     },
     "execution_count": 49,
     "metadata": {},
     "output_type": "execute_result"
    }
   ],
   "source": [
    "viz = plot_structure(\n",
    "    sm,\n",
    "    all_node_attributes=NODE_STYLE.WEAK,\n",
    "    all_edge_attributes=EDGE_STYLE.WEAK,\n",
    ")\n",
    "\n",
    "viz.toggle_physics(False)\n",
    "viz.show(\"supporting_files/01_fully_connected.html\")"
   ]
  },
  {
   "cell_type": "code",
   "execution_count": 50,
   "id": "09ae1fa5",
   "metadata": {},
   "outputs": [
    {
     "name": "stdout",
     "output_type": "stream",
     "text": [
      "supporting_files/01_thresholded.html\n"
     ]
    },
    {
     "data": {
      "text/html": [
       "\n",
       "        <iframe\n",
       "            width=\"100%\"\n",
       "            height=\"600px\"\n",
       "            src=\"supporting_files/01_thresholded.html\"\n",
       "            frameborder=\"0\"\n",
       "            allowfullscreen\n",
       "            \n",
       "        ></iframe>\n",
       "        "
      ],
      "text/plain": [
       "<IPython.lib.display.IFrame at 0x7fcc1ea56610>"
      ]
     },
     "execution_count": 50,
     "metadata": {},
     "output_type": "execute_result"
    }
   ],
   "source": [
    "sm = sm2\n",
    "sm.remove_edges_below_threshold(0.65)\n",
    "viz = plot_structure(\n",
    "    sm,\n",
    "    all_node_attributes=NODE_STYLE.WEAK,\n",
    "    all_edge_attributes=EDGE_STYLE.WEAK,\n",
    ")\n",
    "viz.show(\"supporting_files/01_thresholded.html\")\n"
   ]
  },
  {
   "cell_type": "code",
   "execution_count": 52,
   "id": "277de5b4",
   "metadata": {},
   "outputs": [
    {
     "name": "stdout",
     "output_type": "stream",
     "text": [
      "supporting_files/01_thresholded2.html\n"
     ]
    },
    {
     "data": {
      "text/html": [
       "\n",
       "        <iframe\n",
       "            width=\"100%\"\n",
       "            height=\"600px\"\n",
       "            src=\"supporting_files/01_thresholded2.html\"\n",
       "            frameborder=\"0\"\n",
       "            allowfullscreen\n",
       "            \n",
       "        ></iframe>\n",
       "        "
      ],
      "text/plain": [
       "<IPython.lib.display.IFrame at 0x7fcc3ff319a0>"
      ]
     },
     "execution_count": 52,
     "metadata": {},
     "output_type": "execute_result"
    }
   ],
   "source": [
    "sm = sm2\n",
    "sm.remove_edges_below_threshold(0.8)\n",
    "viz = plot_structure(\n",
    "    sm,\n",
    "    all_node_attributes=NODE_STYLE.WEAK,\n",
    "    all_edge_attributes=EDGE_STYLE.WEAK,\n",
    ")\n",
    "viz.show(\"supporting_files/01_thresholded2.html\")"
   ]
  },
  {
   "cell_type": "code",
   "execution_count": null,
   "id": "418a1855",
   "metadata": {},
   "outputs": [],
   "source": [
    "import itertools\n",
    "import networkx as nx\n",
    "from causalnex.structure import StructureModel\n",
    "from causalnex.plots import plot_structure, NODE_STYLE, EDGE_STYLE\n",
    "from causalnex.structure.notears import from_pandas\n",
    "from causalnex.network import BayesianNetwork\n",
    "from causalnex.estimator import MarginalClassificationEstimator\n",
    "\n",
    "# Supongamos que df_efs_best_20 es tu DataFrame y 'Column_Names' es la columna con los nombres de las características\n",
    "# df_efs_best_20 = pd.read_csv('tu_archivo.csv')  # Asegúrate de cargar tu DataFrame aquí\n",
    "\n",
    "# Ejemplo de listas para el caso de prueba\n",
    "#columnas_seleccionadas = df_efs_best_20['Column_Names'].tolist()\n",
    "\n",
    "# Generar combinaciones de cada columna en best_10 con la columna de y (suicidio)\n",
    "combinaciones = [(col, 'suicidio') for col in columnas_seleccionadas]\n",
    "\n",
    "# Mostrar las combinaciones almacenadas en la variable\n",
    "print(combinaciones)\n",
    "\n",
    "# Crear el modelo estructural\n",
    "sm = StructureModel()\n",
    "\n",
    "# Agregar bordes al modelo estructural basados en las combinaciones\n",
    "sm.add_edges_from(combinaciones)\n",
    "\n",
    "# Mostrar los bordes del modelo estructural\n",
    "print(sm.edges)\n",
    "\n",
    "# Crear una red bayesiana a partir del modelo estructural\n",
    "bn = BayesianNetwork(sm)\n",
    "\n",
    "# Entrenar la red bayesiana utilizando el estimador marginal\n",
    "estimator = MarginalClassificationEstimator(bn)\n",
    "estimator.fit(data_seleccionada)\n",
    "\n",
    "# Realizar la inferencia\n",
    "# Supongamos que tienes un diccionario de evidencia\n",
    "evidencia = {'sexo': 1}  # Reemplaza con tus datos\n",
    "inferencia = bn.do_inference(evidence=evidencia)\n",
    "print(inferencia)\n",
    "\n",
    "# Visualizar la estructura\n",
    "viz = plot_structure(\n",
    "    sm,\n",
    "    all_node_attributes=NODE_STYLE.WEAK,\n",
    "    all_edge_attributes=EDGE_STYLE.WEAK,\n",
    ")\n",
    "\n",
    "viz.toggle_physics(False)\n",
    "viz.show(\"supporting_files/01_fully_connected.html\")\n"
   ]
  },
  {
   "cell_type": "code",
   "execution_count": null,
   "id": "99d0c8ca",
   "metadata": {},
   "outputs": [],
   "source": []
  }
 ],
 "metadata": {
  "kernelspec": {
   "display_name": "Python 3 (ipykernel)",
   "language": "python",
   "name": "python3"
  },
  "language_info": {
   "codemirror_mode": {
    "name": "ipython",
    "version": 3
   },
   "file_extension": ".py",
   "mimetype": "text/x-python",
   "name": "python",
   "nbconvert_exporter": "python",
   "pygments_lexer": "ipython3",
   "version": "3.9.12"
  }
 },
 "nbformat": 4,
 "nbformat_minor": 5
}
